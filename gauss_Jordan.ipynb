{
 "cells": [
  {
   "cell_type": "markdown",
   "id": "efde184b-0f81-4a63-99a6-c97dcf0e4957",
   "metadata": {},
   "source": [
    "# Nguyễn Hiển Đạt\n",
    "# MSSV: 21127591"
   ]
  },
  {
   "cell_type": "code",
   "execution_count": 24,
   "id": "e25ce4c8-5a13-4e69-8044-21f5da180c8a",
   "metadata": {},
   "outputs": [
    {
     "name": "stdout",
     "output_type": "stream",
     "text": [
      "=== Ma trận bổ sung ===\n",
      "1 2 3 1 0 0 \n",
      "4 5 6 0 1 0 \n",
      "7 8 10 0 0 1 \n",
      "=== Ma trận nghịch đảo ===\n",
      "-0.67  -1.33  1.00  \n",
      "-0.67  3.67  -2.00  \n",
      "1.00  -2.00  1.00  \n"
     ]
    }
   ],
   "source": [
    "import sys\n",
    "def inverse(a):\n",
    "    n = len(a) # tìm số dòng ma trận A\n",
    "    P = [[0.0 for i in range(len(a))] for j in range(len(a))]\n",
    "    for i in range(n):\n",
    "        P[i][i] = 1.0\n",
    "    for i in range(len(a)):\n",
    "        a[i].extend(P[i])\n",
    "    # in ma trận bổ sung\n",
    "    print('=== Ma trận bổ sung ===')\n",
    "    for i in range(len(a)): \n",
    "        for j in range(len(a[0])):\n",
    "            print(\"%d \" % a[i][j],end='')\n",
    "        print()                 \n",
    "    #gauss-jordan\n",
    "    for k in range(n):\n",
    "        if abs(a[k][k]) < 1.0e-12:\n",
    "            for i in range(k+1, n):\n",
    "                if abs(a[i][k]) > abs(a[k][k]):\n",
    "                    for j in range(k, 2*n):\n",
    "                        a[k][j], a[i][j] = a[i][j], a[k][j] \n",
    "                    break\n",
    "        pivot = a[k][k] \n",
    "        if pivot == 0: # kiểm tra xem ma trận có khả nghịch không\n",
    "            sys.exit('Ma trận không khả nghịch')\n",
    "        else:\n",
    "            for j in range(k, 2*n): \n",
    "                a[k][j] /= pivot\n",
    "            for i in range(n): \n",
    "                if i == k or a[i][k] == 0: continue\n",
    "                factor = a[i][k]\n",
    "                for j in range(k, 2*n): \n",
    "                    a[i][j] -= factor * a[k][j]\n",
    "    # in ma trận nghịch đảo\n",
    "    print('=== Ma trận nghịch đảo ===')\n",
    "    for i in range(len(a)): \n",
    "        for j in range(n, len(a[0])):\n",
    "            print(\"%.2f  \" % a[i][j], end=\"\")\n",
    "        print()\n",
    "def main():        \n",
    "    A=[\n",
    "        [1,2,3],\n",
    "        [4,5,6],\n",
    "        [7,8,10]\n",
    "    ]\n",
    "    inverse(A)\n",
    "main()\n",
    "\n",
    "# ý tưởng bài toán\n",
    "# Đầu tiên tạo một ma trận P có số dòng và số cột bằng số dòng và số cột của ma trận A. Khởi tạo toàn bộ giá trị bằng 0.\n",
    "# Gán giá trị 1 cho các phần tử trên đường chéo chính của ma trận P.\n",
    "# Sau đó thêm từng dòng của ma trận P vào từng dòng của ma trận A bằng hàm extend. Vậy ta có ma trận bổ sung A.\n",
    "# Dùng thuật toán gauss-jordan để tìm ma trận nghịch đảo."
   ]
  },
  {
   "cell_type": "code",
   "execution_count": 26,
   "id": "07db4f47-7f63-4fac-b7d9-095995f0a165",
   "metadata": {},
   "outputs": [
    {
     "data": {
      "text/plain": [
       "array([[-0.66666667, -1.33333333,  1.        ],\n",
       "       [-0.66666667,  3.66666667, -2.        ],\n",
       "       [ 1.        , -2.        ,  1.        ]])"
      ]
     },
     "execution_count": 26,
     "metadata": {},
     "output_type": "execute_result"
    }
   ],
   "source": [
    "import numpy as np\n",
    "A=[\n",
    "        [1,2,3],\n",
    "        [4,5,6],\n",
    "        [7,8,10]\n",
    "    ]\n",
    "np.linalg.inv(A)\n",
    "\n",
    "# Sử dụng hàm có sẵn trong thư viện numpy để tìm ma trận nghịch đảo.\n",
    "# Kết quả giống với hàm inverse()."
   ]
  },
  {
   "cell_type": "code",
   "execution_count": null,
   "id": "19781639-4498-45b6-aed6-ecff0eb3de71",
   "metadata": {},
   "outputs": [],
   "source": []
  }
 ],
 "metadata": {
  "kernelspec": {
   "display_name": "Python 3 (ipykernel)",
   "language": "python",
   "name": "python3"
  },
  "language_info": {
   "codemirror_mode": {
    "name": "ipython",
    "version": 3
   },
   "file_extension": ".py",
   "mimetype": "text/x-python",
   "name": "python",
   "nbconvert_exporter": "python",
   "pygments_lexer": "ipython3",
   "version": "3.10.9"
  }
 },
 "nbformat": 4,
 "nbformat_minor": 5
}
